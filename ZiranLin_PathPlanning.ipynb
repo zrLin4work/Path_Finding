{
  "cells": [
    {
      "cell_type": "markdown",
      "metadata": {
        "id": "view-in-github",
        "colab_type": "text"
      },
      "source": [
        "<a href=\"https://colab.research.google.com/github/zrLin4work/Path_Finding/blob/main/ZiranLin_PathPlanning.ipynb\" target=\"_parent\"><img src=\"https://colab.research.google.com/assets/colab-badge.svg\" alt=\"Open In Colab\"/></a>"
      ]
    },
    {
      "cell_type": "markdown",
      "metadata": {
        "id": "vRLjzg8ZWpAl"
      },
      "source": [
        "__Task__: Basic Path Planning Implementation\n",
        "\n",
        "__Methods__:  A*"
      ]
    },
    {
      "cell_type": "markdown",
      "metadata": {
        "id": "IS-QCDIzWpAo"
      },
      "source": [
        "In this file, I only implement the A* algorithm.\n",
        "\n",
        "A* algorithm can be seen as an extention of Dijkstra with heuristics. Here, I used following heuristic function:\n",
        "\n",
        "$$  h(u) = \\text{w}(u) + \\text{distance}(s, u) + \\text{distance}(u, e) + \\text{min}\\{\\text{w}(v)|v \\in\\text{NextStep}(u) \\}  + \\text{RestObstacles}(u)$$\n",
        "\n",
        "where,\n",
        "- $u$ is current point, $s$ is the start point, $e$ is the end point;\n",
        "- $\\text{w}(u)$ is the weight of point $u$;\n",
        "- $\\text{distance}(\\cdot,\\cdot)$ calculates the distance between 2 points. It can be chosen according to the task, here, since the agent can only move in 4 directions (up, down, left, right), I used the __Manhattan distance__.\n",
        "- $\\text{min}\\{\\text{w}(v)|v \\in\\text{NextStep}(u) \\}$ get the minimum cost of all possible next step choices for point $u$, i.e., if we choose point $u$, no matter who is $u$'s successor, its is no smaller than this value.\n",
        "- $\\text{RestObstacles}(u)$ count the rest obstacles in the subgraph that bounded by point $u$ and the end point $e$. More obstacles remain, more likely to detour.\n",
        "\n",
        "\n",
        "On the other hand, __genetic algorithm__ (GA) can also be used to solve Path Planning Problem, but not so suitable for the specific task.\n",
        "\n",
        "I tried GA, but since the small scale map and other simple constraints, GA cannot improve the performance.\n",
        "\n",
        "E.g., in population initialize stage, it's almost impossible to generate a large enough population, i.e., it can only generate a few number of feasible DNA."
      ]
    },
    {
      "cell_type": "code",
      "execution_count": 20,
      "metadata": {
        "id": "CgJCQWBNWpAo"
      },
      "outputs": [],
      "source": [
        "import os\n",
        "import numpy as np\n",
        "import matplotlib.pyplot as plt\n",
        "import time\n",
        "from copy import deepcopy\n",
        "import shutil\n",
        "from collections import Counter\n",
        "import matplotlib.colors as mcolors\n",
        "import matplotlib.cm as cm\n",
        "from matplotlib import colormaps\n",
        "INT_INF = 999999999\n",
        "TEST_ROUND = 0          ## a global counter, use to save the step image."
      ]
    },
    {
      "cell_type": "code",
      "source": [
        "ROOT = os.getcwd().replace(\"\\\\\", \"/\")\n",
        "if os.path.exists(ROOT+\"/steps\") == True:\n",
        "  shutil.rmtree('./steps')\n",
        "os.mkdir(ROOT+\"/steps\")"
      ],
      "metadata": {
        "id": "Mx6fPxu6Wq-h"
      },
      "execution_count": 3,
      "outputs": []
    },
    {
      "cell_type": "code",
      "execution_count": 4,
      "metadata": {
        "id": "vRfAsWgNWpAp"
      },
      "outputs": [],
      "source": [
        "STEP4 = np.array([\n",
        "    [-1, 0], [1, 0],\n",
        "    [0, 1], [0, -1]\n",
        "])\n",
        "STEP8 = np.array([\n",
        "    [-1, 0], [1, 0],\n",
        "    [0, 1], [0, -1],\n",
        "    [-1, -1], [-1, 1],\n",
        "    [1, -1], [1, 1]\n",
        "])\n"
      ]
    },
    {
      "cell_type": "markdown",
      "metadata": {
        "id": "HdskxGfRWpAp"
      },
      "source": [
        "# Predifined Distance Functions\n",
        "\n",
        "users can choose one of them to calculate the heuristic values, or write their own functions"
      ]
    },
    {
      "cell_type": "code",
      "execution_count": 5,
      "metadata": {
        "id": "tnL4DI7NWpAq"
      },
      "outputs": [],
      "source": [
        "def Manhattan(source, target, D=1):\n",
        "    dx = np.abs(source[0] - target[0])\n",
        "    dy = np.abs(source[1] - target[1])\n",
        "    return D*(dx+dy)\n",
        "\n",
        "def Diagonal(source, target, D1=1, D2=2 ** 0.5):\n",
        "    dx = np.abs(source[0] - target[0])\n",
        "    dy = np.abs(source[1] - target[1])\n",
        "    return D1 * (dx + dy) + (D2 - 2 * D1) * min(dx, dy)\n",
        "\n",
        "def Euclidean(source, target, D=1):\n",
        "    dx = np.abs(source[0] - target[0])\n",
        "    dy = np.abs(source[1] - target[1])\n",
        "    return D * np.sqrt(dx * dx + dy * dy)\n"
      ]
    },
    {
      "cell_type": "markdown",
      "metadata": {
        "id": "sr2saQJUWpAq"
      },
      "source": [
        "# Point - class\n",
        "\n",
        "the class represents a point in the grid map\n",
        "\n",
        "contains coordinates and other values that used to choose and track path in A* algorithm"
      ]
    },
    {
      "cell_type": "code",
      "execution_count": 6,
      "metadata": {
        "id": "-_vX_ph7WpAq"
      },
      "outputs": [],
      "source": [
        "class Point():\n",
        "    _x = -1\n",
        "    _y = -1\n",
        "    _baseDistance = None\n",
        "    _targetDistance = None\n",
        "    _parent = None\n",
        "    _heuristic = None\n",
        "\n",
        "    def __init__(self, x, y, parent=None, heuristic=None,base_distance=None, target_distance=None):\n",
        "        self._x = x\n",
        "        self._y = y\n",
        "        self._parent = parent\n",
        "        self._heuristic = heuristic\n",
        "        self._baseDistance = base_distance\n",
        "        self._targetDistance = target_distance\n",
        "\n",
        "    def __str__(self):\n",
        "        return f\"({self._x}, {self._y})\"\n",
        "\n",
        "    def __lt__(self, other):\n",
        "        if self._heuristic < other._heuristic: return True\n",
        "        return False\n",
        "\n",
        "    def __eq__(self, other):\n",
        "        if self._heuristic == other._heuristic: return True\n",
        "        return False\n",
        "\n",
        "    def _le(self, other):\n",
        "        if self._heuristic <= other._heuristic : return True\n",
        "        return False\n",
        "\n",
        "    def __gt__(self, other):\n",
        "        if self._heuristic > other._heuristic: return True\n",
        "        return False\n",
        "\n",
        "    def __ge__(self, other):\n",
        "        if self._heuristic >= other._heuristic: return True\n",
        "        return False\n",
        "\n",
        "    def displayDetails(self):\n",
        "        st = f'Point ({self._x}, {self._y})'\n",
        "        if self._parent is not None: st += f'\\t|Parent: ({self._parent})'\n",
        "        if self._heuristic is not None: st += f'\\t|Heuristic: ({self._heuristic})'\n",
        "        print(st)"
      ]
    },
    {
      "cell_type": "markdown",
      "metadata": {
        "id": "gUZP3OdWWpAq"
      },
      "source": [
        "# Graph - class\n",
        "the grid map with no weights, i.e., each cell has the same weight/cost\n",
        "\n",
        "can use Graph.show() to present information"
      ]
    },
    {
      "cell_type": "code",
      "execution_count": 7,
      "metadata": {
        "id": "fQ_nKNs0WpAr"
      },
      "outputs": [],
      "source": [
        "class Graph():\n",
        "    _col_num = -1\n",
        "    _row_num = -1\n",
        "    _map = None\n",
        "    _start = [0, 0]\n",
        "    _end = [INT_INF, INT_INF]\n",
        "    _name = ''\n",
        "    _waypoints = []\n",
        "    _obstacles = []\n",
        "\n",
        "    def __init__(self, col_num:int, row_num:int, start:list=None, end:list=None,\n",
        "                 blocks:list = [],\n",
        "                 name=\"Untitled\"):\n",
        "        \"\"\"\n",
        "          Parameter:\n",
        "            col_num: int. the number of columns of the grid map.\n",
        "            row_num: int. the number of rows of the grid map.\n",
        "            start: list|None. the coordinate of start point.\n",
        "                            if None, use the defualt value, i.e., the left bottom ([0, 0]) of the grid.\n",
        "            end: list|None. the coordinate of end point.\n",
        "                            if None, use the defualt value, i.e., the right top ([row_num-1, col_num-1]) of the grid.\n",
        "            blocks: list. the coordinates of obstacles in the grid. if empty ([]), there is no obstacle.\n",
        "            name: str. can be used to save the picture. the name of the graph. defualt is \"Untitled\".\n",
        "        \"\"\"\n",
        "        global TEST_ROUND\n",
        "        self._col_num = col_num\n",
        "        self._row_num = row_num\n",
        "        self._start = start if start is not None else [0,0]\n",
        "        self._end = end if end is not None else [col_num-1, row_num-1]\n",
        "\n",
        "        self._obstacles = blocks\n",
        "        if name == 'Untitled':\n",
        "            name += str(TEST_ROUND)\n",
        "            TEST_ROUND += 1\n",
        "\n",
        "        self._name = name\n",
        "\n",
        "        self._map = np.ones(shape=(col_num, row_num))\n",
        "        for [x, y] in blocks:\n",
        "            self._map[x, y] = INT_INF      ## for blocks, the cost is infinite\n",
        "\n",
        "    def _color(self, x:int, y:int):\n",
        "        \"\"\"\n",
        "          to get the color of a cell, according to its cost.\n",
        "          Parameter:\n",
        "            x: int. the x coordinate of the cell\n",
        "            y: int. the y coordinate of the cell\n",
        "        \"\"\"\n",
        "        if [x, y] == self._start or [x, y] == self._end:\n",
        "            ## special for start/end point\n",
        "            return 'lightgrey'\n",
        "        elif  self._map[x, y]== INT_INF: return 'dimgray'\n",
        "            ## obstacles are dark\n",
        "        else: return 'white'\n",
        "\n",
        "    def show(self, show_map=False):\n",
        "        \"\"\"\n",
        "          to show some detail information of the graph\n",
        "          Parameter:\n",
        "            show_map: boolean. If True, plot the grid map.\n",
        "        \"\"\"\n",
        "        print(f\"------ Graph: {self._name} ------\\nWidth: {self._col_num}\\tHeight: {self._row_num}\")\n",
        "\n",
        "        if show_map == True:\n",
        "            print(\"------ Grid Map Matrix ------\")\n",
        "            ax = plt.gca()\n",
        "            ax.set_xlim((0, self._col_num))\n",
        "            ax.set_ylim((0,self._row_num))\n",
        "            mXticks = np.arange(0, self._col_num, 1).astype(int)\n",
        "            mYticks = np.arange(0, self._row_num, 1).astype(int)\n",
        "            plt.xticks(mXticks)\n",
        "            plt.yticks(mYticks)\n",
        "\n",
        "            for y in range(self._row_num):           # y\n",
        "                for x in range(self._col_num):       # x\n",
        "                    rec = plt.Rectangle(\n",
        "                        (x, y), 1,1, facecolor=self._color(x, y), edgecolor='black')\n",
        "                    ax.add_patch(rec)\n",
        "\n",
        "            plt.annotate('S', xy=(self._start[0]+0.5, self._start[1]+0.5))\n",
        "            plt.annotate('F', xy=(self._end[0]+0.5, self._end[1]+0.5))\n",
        "            plt.show()\n",
        "\n",
        "    def cost(self, x, y):\n",
        "        \"\"\"\n",
        "          to get the cost(weight) of a cell. designed for external calls.\n",
        "          Parameter:\n",
        "            x: int. the x coordinate of the cell\n",
        "            y: int. the y coordinate of the cell\n",
        "        \"\"\"\n",
        "        return self._map[x, y]\n"
      ]
    },
    {
      "cell_type": "markdown",
      "metadata": {
        "id": "Z15kFc8KWpAr"
      },
      "source": [
        "# WeightedGraph - class\n",
        "\n",
        "the grid map with weights, i.e., each cell has its own weight/cost"
      ]
    },
    {
      "cell_type": "code",
      "execution_count": 23,
      "metadata": {
        "id": "BfLzLlY3WpAr"
      },
      "outputs": [],
      "source": [
        "class WeightedGraph(Graph):     ## graph with specific weights for each cell. a sub-class of Graph\n",
        "    _col_num = -1\n",
        "    _row_num = -1\n",
        "    _map = None\n",
        "    _start = [0, 0]\n",
        "    _end = [INT_INF, INT_INF]\n",
        "    _name = ''\n",
        "    def __init__(self, col_num:int, row_num:int, weights, blocks=[],\n",
        "                 start = None, end = None,name=\"Untitled\"):\n",
        "        \"\"\"\n",
        "          Parameter:\n",
        "            col_num: int. the number of columns of the grid map.\n",
        "            row_num: int. the number of rows of the grid map.\n",
        "            weights: np.array|list. the weights matrix of the grid.\n",
        "            start: list|None. the coordinate of start point.\n",
        "                            if None, use the defualt value, i.e., the left bottom ([0, 0]) of the grid.\n",
        "            end: list|None. the coordinate of end point.\n",
        "                            if None, use the defualt value, i.e., the right top ([row_num-1, col_num-1]) of the grid.\n",
        "            blocks: list. the coordinates of obstacles in the grid. if empty ([]), there is no obstacle.\n",
        "            name: str. can be used to save the picture. the name of the graph. defualt is \"Untitled\".\n",
        "        \"\"\"\n",
        "        super().__init__(col_num, row_num, start, end, blocks, name)\n",
        "        if not isinstance(weights, np.ndarray):\n",
        "            weights = np.array(weights)\n",
        "        self._map = weights.astype(int)\n",
        "\n",
        "        for [x, y] in blocks:\n",
        "            self._map[x, y] = INT_INF\n",
        "\n",
        "        # self._map[self._start[0], self._start[1]] = 0\n",
        "        # self._map[self._end[0], self._end[1]] = 0\n",
        "\n",
        "        # set a color mapping, from costs to color. Higher weight, darker color.\n",
        "        items = Counter(weights.reshape(-1))\n",
        "\n",
        "        # self.color_bar = np.arange(64, 256, step=int((256-64)/len(items)))\n",
        "\n",
        "        cmap = colormaps.get_cmap('jet')\n",
        "        cmap.set_under('green')\n",
        "        cmap.set_over('red')\n",
        "        self.color_bar = cmap\n",
        "\n",
        "\n",
        "    def _color(self, i:int):\n",
        "        \"\"\"\n",
        "          get the color according to the cell's weight\n",
        "          Parameter:\n",
        "            i: int. the cell's weight\n",
        "        \"\"\"\n",
        "        if i == INT_INF: return 'black'\n",
        "        # elif i == 0: return 'violet'\n",
        "        # else: return (1 - self.color_bar[int(i)-1]/256, 1, 1)\n",
        "        else:\n",
        "          items = self._map.reshape(-1)\n",
        "          m, M = min(items), max(items)\n",
        "          f = (i - m) / (M - m)\n",
        "          return self.color_bar(f)\n",
        "\n",
        "    def show(self, show_adj=False):\n",
        "        print(f\"------ Graph: {self._name} ------\\nWidth: {self._col_num}\\tHeight: {self._row_num}\")\n",
        "\n",
        "        if show_adj == True:\n",
        "            print(\"------ Grid Map Matrix ------\")\n",
        "\n",
        "            ax = plt.gca()\n",
        "            ax.set_xlim((0, self._col_num))\n",
        "            ax.set_ylim((0,self._row_num))\n",
        "            mXticks = np.arange(0, self._col_num, 1).astype(int)\n",
        "            mYticks = np.arange(0, self._row_num, 1).astype(int)\n",
        "            plt.xticks(mXticks)\n",
        "            plt.yticks(mYticks)\n",
        "\n",
        "            for y in range(self._row_num):           # y\n",
        "                for x in range(self._col_num):       # x\n",
        "\n",
        "                    if [x, y] == self._start:\n",
        "                        rec = plt.Rectangle(\n",
        "                        (x, y), 1,1, facecolor='violet', edgecolor='black')\n",
        "                        plt.annotate('S', xy=(x + 0.5, y + 0.5))\n",
        "\n",
        "                    elif [x, y] == self._end:\n",
        "                        rec = plt.Rectangle(\n",
        "                        (x, y), 1,1, facecolor='violet', edgecolor='black')\n",
        "                        plt.annotate('F', xy=(x + 0.5, y + 0.5))\n",
        "\n",
        "                    else:\n",
        "                        rec = plt.Rectangle(\n",
        "                        (x, y), 1,1, facecolor=self._color(self._map[x, y]), edgecolor='black')\n",
        "                        st = \"INF\" if self._map[x, y] == INT_INF else str(self._map[x, y])\n",
        "                        plt.annotate(st, xy=(x + 0.5, y + 0.5))\n",
        "                    ax.add_patch(rec)\n",
        "            plt.show()"
      ]
    },
    {
      "cell_type": "markdown",
      "metadata": {
        "id": "EfV1uJn9WpAr"
      },
      "source": [
        "# AStar - class\n",
        "\n",
        "Implementation of A* algorithm"
      ]
    },
    {
      "cell_type": "code",
      "execution_count": 9,
      "metadata": {
        "id": "X8sD3Ov6WpAr"
      },
      "outputs": [],
      "source": [
        "class AStar():\n",
        "    _global_start = None\n",
        "    _global_end = None\n",
        "\n",
        "    def __init__(self, graph:Graph|WeightedGraph, varying_terrain:bool=True, direction_num:int=4, distance_function=\"Manhattan\"):\n",
        "\n",
        "        \"\"\"\n",
        "          Parameters:\n",
        "            graph: Graph|WeightedGraph. the grid map of the task\n",
        "            varying_terrain: boolean. if True, the grid map has weight matrix.\n",
        "            direction_num: int.\n",
        "                            if direction_num == 4: the agent is allowed to move in 4 directions (up, down, left, right)\n",
        "                            if direction_num == 8: the agent is also allowed to move in diagonal.\n",
        "            distance_function: string|function.\n",
        "                            if string, use pre-defined the corresponding distance function.\n",
        "                            if function, use the user-defined distance function.\n",
        "        \"\"\"\n",
        "\n",
        "        self._G = graph\n",
        "\n",
        "        ## copy basic information of the map\n",
        "        self._col_num = graph._col_num\n",
        "        self._row_num = graph._row_num\n",
        "\n",
        "        ## the open list and close list\n",
        "        self._open = []\n",
        "        self._close = []\n",
        "\n",
        "\n",
        "        self._varyingTerrain = varying_terrain\n",
        "\n",
        "        if direction_num == 4:\n",
        "            self._STEP = STEP4\n",
        "        elif direction_num == 8:\n",
        "            self._STEP = STEP8\n",
        "        else:\n",
        "            print(\"We only allow the agent move in 4 or 8 directions! The defualt value is 4.\")\n",
        "            self._STEP = STEP4\n",
        "\n",
        "        if distance_function == 'Manhattan':\n",
        "            self._distance = Manhattan\n",
        "        elif distance_function == 'Diagonal':\n",
        "            self._distance = Diagonal\n",
        "        elif distance_function == 'Euclidean':\n",
        "            self._distance = Euclidean\n",
        "        else:\n",
        "            self._distance = distance_function\n",
        "\n",
        "    def _isOut(self, x, y):\n",
        "        ## if the point [x, y] out of the map\n",
        "        if x < 0 or x >= self._col_num or \\\n",
        "            y < 0 or y >= self._row_num:\n",
        "            return True\n",
        "        return False\n",
        "\n",
        "    def _isEnd(self,x, y, end):\n",
        "        ## if the point [x, y] is the end point\n",
        "        if [x, y] == end:\n",
        "            return True\n",
        "        elif self._global_end is not None:\n",
        "          if [x, y] == self._global_end:\n",
        "            return True\n",
        "        return False\n",
        "\n",
        "    def _isStart(self, x, y, start):\n",
        "        ## if the point [x, y] is the start point\n",
        "        if [x, y] == start:\n",
        "            return True\n",
        "        elif self._global_start is not None:\n",
        "          if [x, y] == self._global_start:\n",
        "            return True\n",
        "        return False\n",
        "\n",
        "    def _isBlock(self, x, y):\n",
        "        ## if the point [x, y] is a block\n",
        "        if self._G._map[x, y] == INT_INF:\n",
        "            # print(f\"node ({x}, {y}) is a block\")\n",
        "            return True\n",
        "        return False\n",
        "\n",
        "    def _isOpen(self, x, y):\n",
        "        ## if the point [x, y] is in the open list\n",
        "        for p in self._open:\n",
        "            if p._x == x and p._y == y:\n",
        "                return True\n",
        "        return False\n",
        "\n",
        "    def _isClose(self, x, y):\n",
        "        ## if the point [x, y] is in the close list\n",
        "        for p in self._close:\n",
        "            if p._x == x and p._y == y:\n",
        "                return True\n",
        "        return False\n",
        "\n",
        "    def _isAvailabel(self, x, y):\n",
        "        ## available point should: (1) in the map (2) is not a obstacle\n",
        "        if self._isOut(x, y) == True or \\\n",
        "            self._isBlock(x, y) == True:\n",
        "            return False\n",
        "        return True\n",
        "\n",
        "    def _nextStep(self, x, y):\n",
        "        ## generate the candidates of next step.\n",
        "        ## only return available points\n",
        "        candidates = self._STEP + [[x, y]] * len(self._STEP)\n",
        "        availables = []\n",
        "        for cad in candidates:\n",
        "            if self._isAvailabel(cad[0], cad[1]) == True:\n",
        "                availables.append(cad)\n",
        "        return availables\n",
        "\n",
        "    def _addToOpenList(self, x, y, parent, start, end, declare=False):\n",
        "        \"\"\"\n",
        "          add point to the open list. the node should be available and not in the openlist\n",
        "          Parameter:\n",
        "            x: int. the x coordinate of the point.\n",
        "            y: int. the y coordinate of the point.\n",
        "            parent: the parent/previous node of this node, i.e., the agent reach this node from the parent node.\n",
        "            start: the start point of current task.\n",
        "            end: the end point of current task.\n",
        "        \"\"\"\n",
        "        baseDist = self._distance([x, y], start)\n",
        "        targetDist = self._distance([x, y], end)\n",
        "        cost = self._G.cost(x, y)\n",
        "\n",
        "        next_steps = self._nextStep(x, y)\n",
        "        min_next = INT_INF\n",
        "        for [xx, yy] in next_steps:\n",
        "            #td = self._distance([xx, yy], end)\n",
        "            cc = self._G.cost(xx, yy)\n",
        "            #hh = td + cc\n",
        "            hh = cc\n",
        "            if hh < min_next:\n",
        "              min_next = hh\n",
        "\n",
        "        x1, x2 = min(x, end[0]), max(x, end[0])\n",
        "        y1, y2 = min(y, end[1]), max(y, end[1])\n",
        "        res_obstacle = [\n",
        "            1 if ((x1 <= ox <= x2 and y1 <= oy <= y2) and ox != x and oy != y) else 0 for [ox, oy] in self._G._obstacles\n",
        "        ]\n",
        "        heuristic = cost + baseDist + targetDist + sum(res_obstacle) + min_next\n",
        "\n",
        "\n",
        "        point = Point(x, y, parent, heuristic, baseDist, targetDist)\n",
        "        if declare == True: print(f\"add node ({x}, {y}) to open list, heuristic value is {cost} + {baseDist} + {targetDist} + {sum(res_obstacle)} + {min_next}= {heuristic}\")\n",
        "        self._open.append(point)\n",
        "\n",
        "    def _isAvailable(self, x, y):\n",
        "        # if point [x, y] is available\n",
        "        if self._isOut(x, y) or self._isBlock(x, y):\n",
        "            return False\n",
        "        return True\n",
        "\n",
        "    def _sortOpenList(self):\n",
        "        # sort the open list according to their priorities\n",
        "        if len(self._open) == 0:\n",
        "            ## if the open list is empty, there is no path\n",
        "            print('The open list is empty!')\n",
        "            return\n",
        "        ## sort by heuristic value at first\n",
        "            ## for points with the same heuristic value, then sort by the distance to target\n",
        "                ## then the distance to source point\n",
        "        new_open = sorted(self._open, key=lambda i: (i, i._targetDistance, i._baseDistance))\n",
        "        #new_open = sorted(self._open)\n",
        "        self._open = new_open\n",
        "        return\n",
        "\n",
        "    def _processPoint(self, nxt, cur, start, end, ax, stage, save_image=True, declare=False):\n",
        "        ## process a point, check if it can be explored. if so, add to the open list and plot the picture\n",
        "        if not self._isAvailable(*nxt):\n",
        "            return\n",
        "        if self._isClose(*nxt):\n",
        "            return\n",
        "        if not self._isOpen(*nxt):\n",
        "\n",
        "            self._addToOpenList(nxt[0], nxt[1], cur, start, end, declare)\n",
        "            ## color the open node\n",
        "            x, y = nxt[0], nxt[1]\n",
        "            rec = plt.Rectangle((x, y), 1, 1, facecolor='orange', edgecolor='black',alpha=0.9)\n",
        "            ax.add_patch(rec)\n",
        "            if save_image == True: self.SaveImage(stage=stage)\n",
        "\n",
        "    def buildPath(self, p:Point, ax, start_time, start, stage, declare=False, is_template=False):\n",
        "        \"\"\"\n",
        "          to build a path from current node(usually current termination) to the start\n",
        "          plot the picture at the same time\n",
        "          Parameter:\n",
        "            p: Point. current node.\n",
        "            ax: plt.axis. the axis to plot the path\n",
        "            start_time: int. when the algorithem start\n",
        "            start: Point. the start point of current task\n",
        "            declare: boolean. if True, print textual information to show the process\n",
        "        \"\"\"\n",
        "        path = []\n",
        "        x, y = p._x, p._y\n",
        "\n",
        "        ## start the building loop\n",
        "        while True:\n",
        "            if p is None:\n",
        "                ## current node not exists, break the loop\n",
        "                break\n",
        "\n",
        "            ## add current node to the head of the path\n",
        "            path.insert(0, p)\n",
        "            if declare == True: print(f\"add point [{p._x}, {p._y}] to the path\")\n",
        "\n",
        "            if self._isStart(x, y, start):\n",
        "                ## come to the start point, break the loop\n",
        "                break\n",
        "            else:\n",
        "                ## hasn't reach the start point, look back upon to the parent point\n",
        "                # prt = self._findParent(*p._parent)\n",
        "                prt = p._parent\n",
        "                p = prt\n",
        "\n",
        "        if len(path) == 0:\n",
        "            ## the path is empty, failed\n",
        "            print(\"Path building failed!\")\n",
        "\n",
        "        ## loop ended, the path is constructed\n",
        "        st = 'The chosen path is: \\n'\n",
        "        for p in path[:-1]:\n",
        "            ## color cells along the path\n",
        "            rec = plt.Rectangle((p._x, p._y), 1, 1, facecolor='royalblue',edgecolor='black', alpha=0.8)\n",
        "            ax.add_patch(rec)\n",
        "            plt.draw()\n",
        "            st += f\"({p._x}, {p._y}) => \"\n",
        "\n",
        "        ## color the end point\n",
        "        st += f\"({path[-1]._x}, {path[-1]._y})\"\n",
        "        rec = plt.Rectangle((path[-1]._x, path[-1]._y), 1, 1, facecolor='royalblue',edgecolor='black', alpha=0.8)\n",
        "        ax.add_patch(rec)\n",
        "        plt.draw()\n",
        "        self.SaveImage(stage=stage)\n",
        "\n",
        "\n",
        "        print(st)\n",
        "        if is_template == False:\n",
        "            end_time = time.time()\n",
        "            print('===== Algorithm finish in', int(end_time-start_time), ' seconds')\n",
        "        return path\n",
        "\n",
        "    def SaveImage(self, stage='Total'):\n",
        "        graph_name = self._G._name\n",
        "\n",
        "        millis = int(round(time.time() * 1000))\n",
        "\n",
        "        filename = ROOT + '/steps/' + graph_name\n",
        "\n",
        "        if stage == 'Total':\n",
        "            filename += '_Total_'\n",
        "        elif isinstance(stage, int):\n",
        "            filename += f'_Stage-{str(stage)}'\n",
        "        elif stage is None:\n",
        "            pass\n",
        "\n",
        "        filename += \"_\" + str(millis)[-6:] + '.png'\n",
        "\n",
        "        plt.savefig(filename)\n",
        "\n",
        "    def run_without_waypoints(self, start=None, end=None, declare=False, save_step_fig=True, stage=None):\n",
        "        # os.makedirs('steps')\n",
        "\n",
        "        if start is None:\n",
        "            start = self._G._start\n",
        "        if end is None:\n",
        "            end = self._G._end\n",
        "\n",
        "        rows, cols = self._row_num, self._col_num\n",
        "        # Prepare for draw the process\n",
        "        _, ax = plt.subplots()\n",
        "        plt.ylim(0, rows)\n",
        "        plt.xlim(0, cols)\n",
        "\n",
        "        mXticks = np.arange(0, cols, 1).astype(int)\n",
        "        mYticks = np.arange(0, rows, 1).astype(int)\n",
        "        plt.xticks(mXticks)\n",
        "        plt.yticks(mYticks)\n",
        "        ## draw the initial state\n",
        "        for y in range(rows):\n",
        "            for x in range(cols):\n",
        "                if isinstance(self._G, WeightedGraph): color = self._G._color(self._G.cost(x, y))\n",
        "                elif isinstance(self._G, Graph): color = self._G._color(x, y)\n",
        "                rec = plt.Rectangle(\n",
        "                    (x, y), 1,1, facecolor=color, edgecolor='black', alpha=0.5)\n",
        "                ax.add_patch(rec)\n",
        "                if [x, y] == start:\n",
        "                    if stage is None:\n",
        "                        plt.annotate('S', xy=(start[0]+0.5, start[1]+0.5))\n",
        "                    else:\n",
        "                        plt.annotate(f'S({stage})', xy=(start[0]+0.5, start[1]+0.5))\n",
        "                elif [x, y] == end:\n",
        "                    if stage is None:\n",
        "                        plt.annotate('F', xy=(end[0]+0.5, end[1]+0.5))\n",
        "                    else:\n",
        "                        plt.annotate(f'F({stage})', xy=(end[0]+0.5, end[1]+0.5))\n",
        "                elif isinstance(self._G, WeightedGraph):\n",
        "                    st = \"INF\" if self._G._map[x, y] == INT_INF else str(self._G._map[x, y])\n",
        "                    plt.annotate(st, xy=(x + 0.5, y + 0.5))\n",
        "\n",
        "        # Record the start time\n",
        "        start_time = time.time()\n",
        "\n",
        "        start_x, start_y = start[0], start[1]\n",
        "        self._addToOpenList(start_x, start_y, None, start, end)     ## add the start point to the open list\n",
        "\n",
        "        while True:\n",
        "            if len(self._open) == 0:\n",
        "                ## no points waiting to explore, algorithm ends\n",
        "                print(\"No path found! Failed!\")\n",
        "                return []\n",
        "\n",
        "            ## sort the open list according to estimated cost\n",
        "            self._sortOpenList()\n",
        "            ## choose the point with lowest probable cost\n",
        "            p = deepcopy(self._open[0])\n",
        "\n",
        "            if declare==True:\n",
        "              if isinstance(p._parent, Point):\n",
        "                print(f\"choose point [{p._x}, {p._y}], with lowest heuristic value {p._heuristic}, parent is [{p._parent._x}, {p._parent._y}]\")\n",
        "              else:\n",
        "                print(f\"choose point [{p._x}, {p._y}], with lowest heuristic value {p._heuristic}\")\n",
        "\n",
        "            # Reach the end, build path\n",
        "            if self._isEnd(p._x, p._y, end):\n",
        "                if stage is None or stage == 'Total':\n",
        "                    is_template = False\n",
        "                else:\n",
        "                    is_template = True\n",
        "                return self.buildPath(p, ax, start_time, start, stage,declare, is_template)\n",
        "\n",
        "            # Else, continue the algorithm\n",
        "            del self._open[0]       # remove current node from the open list\n",
        "            self._close.append(p)   # add current node into the close list\n",
        "\n",
        "\n",
        "            candidates = self._nextStep(p._x, p._y)     ## each is available\n",
        "            for nxt in candidates:\n",
        "                self._processPoint(nxt, p, start, end, ax, stage=stage, save_image=save_step_fig, declare=declare, )\n",
        "\n",
        "    def run_with_waypoints(self, waypoints, start=None, end=None,declare=False, save_step_fig=True):\n",
        "        ## filter out no waypoints situations\n",
        "        if len(waypoints) == 0:\n",
        "            return self.run_without_waypoints(start, end, declare, save_step_fig)\n",
        "\n",
        "        ## initialize the case\n",
        "        if start is None: start = self._G._start\n",
        "        if end is None: end = self._G._end\n",
        "\n",
        "        self._global_start = start\n",
        "        self._global_end = end\n",
        "\n",
        "        cur_start = start\n",
        "        cur_end = None\n",
        "        # stops = deepcopy(waypoints) + [end]\n",
        "        stops = deepcopy(waypoints)\n",
        "        stage = 1\n",
        "        tmp_paths = []\n",
        "        start_time = time.time()\n",
        "        while True:\n",
        "            self._G._map[self._global_end[0], self._global_end[1]] = INT_INF\n",
        "            tmp_stops = deepcopy(stops)\n",
        "\n",
        "            ## find the closest point to current start point as the terminate\n",
        "            dist = [self._distance(cur_start, p) for p in stops]\n",
        "            min_idx = dist.index(min(dist))\n",
        "            cur_end = stops[min_idx]\n",
        "\n",
        "            path = []\n",
        "            while True:\n",
        "                print(f\"Begin to find the path from {cur_start} to {cur_end}\")\n",
        "                path = self.run_without_waypoints(cur_start, cur_end, declare, save_step_fig, stage)\n",
        "                ## reset the open and close list\n",
        "                self._close = []\n",
        "                self._open = []\n",
        "\n",
        "                if len(path) > 0:\n",
        "                    ## find a path, go to next stage\n",
        "                    break\n",
        "\n",
        "                ## no feasible path, change the terminate\n",
        "                tmp_stops.pop(min_idx)\n",
        "                dist = [self._distance(cur_start, p) for p in stops]\n",
        "                min_idx = dist.index(min(dist))\n",
        "                cur_end = stops[min_idx]\n",
        "\n",
        "\n",
        "            tmp_paths.append(path)\n",
        "            stops.remove(cur_end)\n",
        "            cur_start = cur_end\n",
        "            stage += 1\n",
        "            print(f\"reached the point {cur_start}\")\n",
        "            if len(stops) == 0:\n",
        "                ## visited all waypoints\n",
        "                self._G._map[self._global_end[0], self._global_end[1]] = 0\n",
        "                break\n",
        "\n",
        "        if declare == True: print(stage)\n",
        "        path = self.run_without_waypoints(cur_start, end, declare, save_step_fig, stage)\n",
        "\n",
        "        if declare == True: print(path)\n",
        "\n",
        "        tmp_paths.append(path)\n",
        "        final_path = []\n",
        "        for sub_path in tmp_paths:\n",
        "            final_path.extend(sub_path[:-1])\n",
        "        final_path.append(tmp_paths[-1][-1])\n",
        "\n",
        "        rows, cols = self._row_num, self._col_num\n",
        "        # Prepare for draw the process\n",
        "        _, ax = plt.subplots()\n",
        "        plt.ylim(0, rows)\n",
        "        plt.xlim(0, cols)\n",
        "\n",
        "        mXticks = np.arange(0, cols, 1).astype(int)\n",
        "        mYticks = np.arange(0, rows, 1).astype(int)\n",
        "        plt.xticks(mXticks)\n",
        "        plt.yticks(mYticks)\n",
        "        ## draw the initial state\n",
        "        for y in range(rows):\n",
        "            for x in range(cols):\n",
        "                if isinstance(self._G, WeightedGraph): color = self._G._color(self._G.cost(x, y))\n",
        "                elif isinstance(self._G, Graph): color = self._G._color(x, y)\n",
        "                rec = plt.Rectangle(\n",
        "                    (x, y), 1,1, facecolor=color, edgecolor='black', alpha=0.5)\n",
        "                ax.add_patch(rec)\n",
        "                if [x, y] == start:\n",
        "                    plt.annotate('S', xy=(start[0]+0.5, start[1]+0.5))\n",
        "                elif [x, y] == end:\n",
        "                    plt.annotate('F', xy=(end[0]+0.5, end[1]+0.5))\n",
        "                elif isinstance(self._G, WeightedGraph):\n",
        "                    st = \"INF\" if self._G._map[x, y] == INT_INF else str(self._G._map[x, y])\n",
        "                    plt.annotate(st, xy=(x + 0.5, y + 0.5))\n",
        "\n",
        "        st = 'The chosen path is: \\n'\n",
        "        for p in final_path:\n",
        "            ## color cells along the path\n",
        "            rec = plt.Rectangle((p._x, p._y), 1, 1, facecolor='royalblue',edgecolor='black', alpha=0.8)\n",
        "            ax.add_patch(rec)\n",
        "            plt.draw()\n",
        "            st += f\"({p._x}, {p._y}) => \"\n",
        "        for [x, y] in waypoints:\n",
        "            rec = plt.Rectangle((x, y), 1, 1, facecolor='green',edgecolor='black')\n",
        "            ax.add_patch(rec)\n",
        "            plt.draw()\n",
        "        plt.show()\n",
        "        end_time = time.time()\n",
        "        print('===== Algorithm finish in', int(end_time-start_time), ' seconds')\n",
        "        self.SaveImage()\n",
        "        return final_path\n",
        "\n"
      ]
    },
    {
      "cell_type": "markdown",
      "metadata": {
        "id": "J-bcEzwaWpAs"
      },
      "source": [
        "# Test"
      ]
    },
    {
      "cell_type": "markdown",
      "source": [
        "### 1. Basic Case\n",
        "\n",
        "![image_2024-03-12_120422814.png](data:image/png;base64,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)"
      ],
      "metadata": {
        "id": "nCFAHlHxPDyd"
      }
    },
    {
      "cell_type": "code",
      "execution_count": 10,
      "metadata": {
        "id": "HIWFZRRJWpAs"
      },
      "outputs": [],
      "source": [
        "n_rows = 5\n",
        "n_cols = 5\n",
        "start = [0, 0]\n",
        "end = [4, 4]\n",
        "obstacles = [[1, 1], [4, 1], [3, 2], [2, 3]]"
      ]
    },
    {
      "cell_type": "code",
      "execution_count": 11,
      "metadata": {
        "colab": {
          "base_uri": "https://localhost:8080/",
          "height": 482
        },
        "id": "viyrRWYNWpAt",
        "outputId": "f1339d89-19bd-44bc-e4a1-b1cf02d31140"
      },
      "outputs": [
        {
          "output_type": "stream",
          "name": "stdout",
          "text": [
            "------ Graph: Graph ------\n",
            "Width: 5\tHeight: 5\n",
            "------ Grid Map Matrix ------\n"
          ]
        },
        {
          "output_type": "display_data",
          "data": {
            "text/plain": [
              "<Figure size 640x480 with 1 Axes>"
            ],
            "image/png": "[encoded data removed]"
          },
          "metadata": {}
        }
      ],
      "source": [
        "g = Graph(n_cols, n_rows, start, end, blocks=obstacles, name='Graph')\n",
        "ax = g.show(True)\n"
      ]
    },
    {
      "cell_type": "code",
      "execution_count": 12,
      "metadata": {
        "colab": {
          "base_uri": "https://localhost:8080/",
          "height": 1000
        },
        "id": "cfQSPs-SWpAt",
        "outputId": "3ea585e4-a838-4fad-cf8a-7b7ffe3d6566"
      },
      "outputs": [
        {
          "output_type": "stream",
          "name": "stdout",
          "text": [
            "choose point [0, 0], with lowest heuristic value 14.0\n",
            "add node (1, 0) to open list, heuristic value is 1.0 + 1 + 7 + 3 + 1.0= 13.0\n",
            "add node (0, 1) to open list, heuristic value is 1.0 + 1 + 7 + 2 + 1.0= 12.0\n",
            "choose point [0, 1], with lowest heuristic value 12.0, parent is [0, 0]\n",
            "add node (0, 2) to open list, heuristic value is 1.0 + 2 + 6 + 1 + 1.0= 11.0\n",
            "choose point [0, 2], with lowest heuristic value 11.0, parent is [0, 1]\n",
            "add node (1, 2) to open list, heuristic value is 1.0 + 3 + 5 + 1 + 1.0= 11.0\n",
            "add node (0, 3) to open list, heuristic value is 1.0 + 3 + 5 + 0 + 1.0= 10.0\n",
            "choose point [0, 3], with lowest heuristic value 10.0, parent is [0, 2]\n",
            "add node (1, 3) to open list, heuristic value is 1.0 + 4 + 4 + 0 + 1.0= 10.0\n",
            "add node (0, 4) to open list, heuristic value is 1.0 + 4 + 4 + 0 + 1.0= 10.0\n",
            "choose point [1, 3], with lowest heuristic value 10.0, parent is [0, 3]\n",
            "add node (1, 4) to open list, heuristic value is 1.0 + 5 + 3 + 0 + 1.0= 10.0\n",
            "choose point [1, 4], with lowest heuristic value 10.0, parent is [1, 3]\n",
            "add node (2, 4) to open list, heuristic value is 1.0 + 6 + 2 + 0 + 1.0= 10.0\n",
            "choose point [2, 4], with lowest heuristic value 10.0, parent is [1, 4]\n",
            "add node (3, 4) to open list, heuristic value is 1.0 + 7 + 1 + 0 + 1.0= 10.0\n",
            "choose point [3, 4], with lowest heuristic value 10.0, parent is [2, 4]\n",
            "add node (4, 4) to open list, heuristic value is 1.0 + 8 + 0 + 0 + 1.0= 10.0\n",
            "add node (3, 3) to open list, heuristic value is 1.0 + 6 + 2 + 0 + 1.0= 10.0\n",
            "choose point [4, 4], with lowest heuristic value 10.0, parent is [3, 4]\n",
            "add point [4, 4] to the path\n",
            "add point [3, 4] to the path\n",
            "add point [2, 4] to the path\n",
            "add point [1, 4] to the path\n",
            "add point [1, 3] to the path\n",
            "add point [0, 3] to the path\n",
            "add point [0, 2] to the path\n",
            "add point [0, 1] to the path\n",
            "add point [0, 0] to the path\n",
            "The chosen path is: \n",
            "(0, 0) => (0, 1) => (0, 2) => (0, 3) => (1, 3) => (1, 4) => (2, 4) => (3, 4) => (4, 4)\n",
            "===== Algorithm finish in 2  seconds\n"
          ]
        },
        {
          "output_type": "display_data",
          "data": {
            "text/plain": [
              "<Figure size 640x480 with 1 Axes>"
            ],
            "image/png": "[encoded data removed]"
          },
          "metadata": {}
        }
      ],
      "source": [
        "a_star = AStar(g, True)\n",
        "path = a_star.run_without_waypoints(save_step_fig=True, declare=True)\n",
        "plt.show()"
      ]
    },
    {
      "cell_type": "markdown",
      "source": [
        "### 2. With Waypoints\n",
        "![image_2024-03-12_120504559.png](data:image/png;base64,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)\n"
      ],
      "metadata": {
        "id": "22nV8GOjVjdi"
      }
    },
    {
      "cell_type": "code",
      "source": [
        "waypoints = [[2, 2], [4, 3]]"
      ],
      "metadata": {
        "id": "FwTpKdYQUpE4"
      },
      "execution_count": 13,
      "outputs": []
    },
    {
      "cell_type": "code",
      "execution_count": 14,
      "metadata": {
        "colab": {
          "base_uri": "https://localhost:8080/",
          "height": 1000
        },
        "id": "TV2tUj7GWpAt",
        "outputId": "d5a3d818-c5ed-46d8-b45d-142ec5106255"
      },
      "outputs": [
        {
          "output_type": "stream",
          "name": "stdout",
          "text": [
            "Begin to find the path from [0, 0] to [2, 2]\n",
            "The chosen path is: \n",
            "(0, 0) => (1, 0) => (2, 0) => (2, 1) => (2, 2)\n",
            "reached the point [2, 2]\n",
            "Begin to find the path from [2, 2] to [4, 3]\n",
            "The chosen path is: \n",
            "(2, 2) => (1, 2) => (1, 3) => (1, 4) => (2, 4) => (3, 4) => (3, 3) => (4, 3)\n",
            "reached the point [4, 3]\n",
            "The chosen path is: \n",
            "(4, 3) => (4, 4)\n"
          ]
        },
        {
          "output_type": "display_data",
          "data": {
            "text/plain": [
              "<Figure size 640x480 with 1 Axes>"
            ],
            "image/png": "[encoded data removed]"
          },
          "metadata": {}
        },
        {
          "output_type": "display_data",
          "data": {
            "text/plain": [
              "<Figure size 640x480 with 1 Axes>"
            ],
            "image/png": "[encoded data removed]"
          },
          "metadata": {}
        },
        {
          "output_type": "display_data",
          "data": {
            "text/plain": [
              "<Figure size 640x480 with 1 Axes>"
            ],
            "image/png": "[encoded data removed]"
          },
          "metadata": {}
        },
        {
          "output_type": "display_data",
          "data": {
            "text/plain": [
              "<Figure size 640x480 with 1 Axes>"
            ],
            "image/png": "[encoded data removed]"
          },
          "metadata": {}
        },
        {
          "output_type": "stream",
          "name": "stdout",
          "text": [
            "===== Algorithm finish in 12  seconds\n"
          ]
        },
        {
          "output_type": "display_data",
          "data": {
            "text/plain": [
              "<Figure size 640x480 with 0 Axes>"
            ]
          },
          "metadata": {}
        }
      ],
      "source": [
        "waypoints_A_star = AStar(g, True)\n",
        "path = waypoints_A_star.run_with_waypoints(waypoints, declare=False)\n",
        "plt.show()"
      ]
    },
    {
      "cell_type": "markdown",
      "source": [
        "### 3. With Varying Terrain\n",
        "\n",
        "![image.png](data:image/png;base64,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)"
      ],
      "metadata": {
        "id": "PlJ8Kc8xsE2E"
      }
    },
    {
      "cell_type": "code",
      "source": [
        "weights = [\n",
        "    [0, 1, 2, 1, 1],\n",
        "    [1, 2, 2, 2, 1],\n",
        "    [2, 3, 3, 2, 2],\n",
        "    [2, 3, 3, 3, 2],\n",
        "    [2, 3, 2, 2, 0]\n",
        "]"
      ],
      "metadata": {
        "id": "4nc2_Ik9r_Mm"
      },
      "execution_count": 16,
      "outputs": []
    },
    {
      "cell_type": "code",
      "execution_count": 25,
      "metadata": {
        "colab": {
          "base_uri": "https://localhost:8080/",
          "height": 482
        },
        "id": "rZa0QBafWpAt",
        "outputId": "5a0b2031-f5e4-47ed-89dd-ae137903ca77"
      },
      "outputs": [
        {
          "output_type": "stream",
          "name": "stdout",
          "text": [
            "------ Graph: Untitled0 ------\n",
            "Width: 5\tHeight: 5\n",
            "------ Grid Map Matrix ------\n"
          ]
        },
        {
          "output_type": "display_data",
          "data": {
            "text/plain": [
              "<Figure size 640x480 with 1 Axes>"
            ],
            "image/png": "[encoded data removed]"
          },
          "metadata": {}
        }
      ],
      "source": [
        "wg = WeightedGraph(n_cols, n_rows, weights, blocks=[])\n",
        "axw = wg.show(True)"
      ]
    },
    {
      "cell_type": "code",
      "execution_count": 26,
      "metadata": {
        "colab": {
          "base_uri": "https://localhost:8080/",
          "height": 482
        },
        "id": "dbnr65HOWpAt",
        "outputId": "cb60baa8-ebfd-4749-aeac-d4abf5fcbd1d"
      },
      "outputs": [
        {
          "output_type": "stream",
          "name": "stdout",
          "text": [
            "The chosen path is: \n",
            "(0, 0) => (0, 1) => (0, 2) => (0, 3) => (0, 4) => (1, 4) => (2, 4) => (3, 4) => (4, 4)\n",
            "===== Algorithm finish in 5  seconds\n"
          ]
        },
        {
          "output_type": "display_data",
          "data": {
            "text/plain": [
              "<Figure size 640x480 with 1 Axes>"
            ],
            "image/png": "[encoded data removed]"
          },
          "metadata": {}
        }
      ],
      "source": [
        "weighted_a_star = AStar(wg, True)\n",
        "path = weighted_a_star.run_without_waypoints(declare=False)\n",
        "plt.show()"
      ]
    },
    {
      "cell_type": "code",
      "source": [],
      "metadata": {
        "id": "fwu2O0kmcs7Q"
      },
      "execution_count": null,
      "outputs": []
    }
  ],
  "metadata": {
    "kernelspec": {
      "display_name": "base",
      "language": "python",
      "name": "python3"
    },
    "language_info": {
      "codemirror_mode": {
        "name": "ipython",
        "version": 3
      },
      "file_extension": ".py",
      "mimetype": "text/x-python",
      "name": "python",
      "nbconvert_exporter": "python",
      "pygments_lexer": "ipython3",
      "version": "3.11.3"
    },
    "colab": {
      "provenance": [],
      "include_colab_link": true
    }
  },
  "nbformat": 4,
  "nbformat_minor": 0
}